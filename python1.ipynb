{
  "nbformat": 4,
  "nbformat_minor": 0,
  "metadata": {
    "colab": {
      "provenance": [],
      "authorship_tag": "ABX9TyOkftRp5V4crxQerAaweujF",
      "include_colab_link": true
    },
    "kernelspec": {
      "name": "python3",
      "display_name": "Python 3"
    },
    "language_info": {
      "name": "python"
    }
  },
  "cells": [
    {
      "cell_type": "markdown",
      "metadata": {
        "id": "view-in-github",
        "colab_type": "text"
      },
      "source": [
        "<a href=\"https://colab.research.google.com/github/unknownowl007/pythonlearning/blob/main/Untitled0.ipynb\" target=\"_parent\"><img src=\"https://colab.research.google.com/assets/colab-badge.svg\" alt=\"Open In Colab\"/></a>"
      ]
    },
    {
      "cell_type": "code",
      "execution_count": null,
      "metadata": {
        "colab": {
          "base_uri": "https://localhost:8080/"
        },
        "id": "sgz6wsbvMa5f",
        "outputId": "a8b57fe9-ec33-4c27-fd71-9fb5db687ec0"
      },
      "outputs": [
        {
          "output_type": "stream",
          "name": "stdout",
          "text": [
            "I love bangladesh!\n"
          ]
        }
      ],
      "source": [
        "print(\"I love bangladesh!\")"
      ]
    },
    {
      "cell_type": "markdown",
      "source": [
        "## **variables**"
      ],
      "metadata": {
        "id": "6jOkZkNZM7Zb"
      }
    },
    {
      "cell_type": "code",
      "source": [
        "#variables\n",
        "a = 10\n",
        "b = 12\n",
        "name = \"Nur\"\n",
        "addres = \"Narsingdi\"\n",
        "age = 22\n",
        "print(a+b)\n",
        "print(name)\n",
        "print(addres,age )"
      ],
      "metadata": {
        "colab": {
          "base_uri": "https://localhost:8080/"
        },
        "id": "Xavw6-uxM9bk",
        "outputId": "c5ee7455-3e05-4578-a219-fc2890805047"
      },
      "execution_count": null,
      "outputs": [
        {
          "output_type": "stream",
          "name": "stdout",
          "text": [
            "22\n",
            "Nur\n",
            "Narsingdi 22\n"
          ]
        }
      ]
    },
    {
      "cell_type": "code",
      "source": [],
      "metadata": {
        "id": "mtCHrw6DNPMz"
      },
      "execution_count": null,
      "outputs": []
    },
    {
      "cell_type": "markdown",
      "source": [
        "### **Data Types**"
      ],
      "metadata": {
        "id": "EaO_hlPgOAzq"
      }
    },
    {
      "cell_type": "code",
      "source": [
        "\n",
        "#data_types\n",
        "10 int\n",
        "3.5 float\n",
        "string NUR"
      ],
      "metadata": {
        "id": "KpUX5cPEOEFS"
      },
      "execution_count": null,
      "outputs": []
    },
    {
      "cell_type": "markdown",
      "source": [
        "### **Type Casting**"
      ],
      "metadata": {
        "id": "_2bWLd8COzFj"
      }
    },
    {
      "cell_type": "code",
      "source": [
        "# take input from keyboard\n",
        "firstnum = 10\n",
        "secondnum = input(\"Enter a number: \")\n",
        "print(\"sum: \",firstnum + int(secondnum)) #we have to clasify input type"
      ],
      "metadata": {
        "colab": {
          "base_uri": "https://localhost:8080/"
        },
        "id": "fyIpLG3yO5GT",
        "outputId": "9dd29123-7129-48c1-d1e0-7b16c88e73f3"
      },
      "execution_count": null,
      "outputs": [
        {
          "output_type": "stream",
          "name": "stdout",
          "text": [
            "Enter a number: 5\n",
            "sum:  15\n"
          ]
        }
      ]
    },
    {
      "cell_type": "markdown",
      "source": [
        "## **Operators**:"
      ],
      "metadata": {
        "id": "M2FlKSExQZ9F"
      }
    },
    {
      "cell_type": "code",
      "source": [
        "arithematic operators : =+ , - , / , * , %\n",
        "relational operators > , < , >= , <= , == , !=\n",
        "comparator : > , < , >= , <=\n",
        "loggical operators : and , or , not\n",
        "assignment operators"
      ],
      "metadata": {
        "id": "ajwMka18Qcxm"
      },
      "execution_count": null,
      "outputs": []
    },
    {
      "cell_type": "markdown",
      "source": [
        "**example of arithematic operators**\n",
        "\n"
      ],
      "metadata": {
        "id": "6oKhlXKlRjD7"
      }
    },
    {
      "cell_type": "code",
      "source": [
        "no1 = 10\n",
        "print(\"The first number is : \", no1)\n",
        "no2 = input(\"Enter second number: \")\n",
        "print(\"This is addition : \",no1 + int(no2))\n",
        "print(\"This is subtraction : \",no1 - int(no2))\n",
        "print(\"This is division : \",no1 / int(no2))\n",
        "print(\"This is multiplication : \",no1 * int(no2))"
      ],
      "metadata": {
        "colab": {
          "base_uri": "https://localhost:8080/"
        },
        "id": "qhxjLO6_REvL",
        "outputId": "31cf14d6-2908-4492-be90-844651497f74"
      },
      "execution_count": null,
      "outputs": [
        {
          "output_type": "stream",
          "name": "stdout",
          "text": [
            "The first number is :  10\n",
            "Enter second number: 12\n",
            "This is addition :  22\n",
            "This is subtraction :  -2\n",
            "This is division :  0.8333333333333334\n",
            "This is multiplication :  120\n"
          ]
        }
      ]
    },
    {
      "cell_type": "markdown",
      "source": [
        "## **Conditional Statements**"
      ],
      "metadata": {
        "id": "jgpThLXZSBWk"
      }
    },
    {
      "cell_type": "code",
      "source": [
        "#if condition\n",
        "if conditon:\n",
        "    statement\n",
        "\n",
        "#if else conditon\n",
        "if condition:\n",
        "    statement\n",
        "else:\n",
        "    statement\n",
        "\n",
        "#if else if\n",
        "if condition:\n",
        "    statement\n",
        "elif condition:\n",
        "    statement\n",
        "else:\n",
        "    statement"
      ],
      "metadata": {
        "id": "wuUtQ-11SExk"
      },
      "execution_count": null,
      "outputs": []
    },
    {
      "cell_type": "code",
      "source": [
        "#examplary code\n",
        "age = input(\"Enter your age: \")\n",
        "if int(age) >= 18:\n",
        "    print(\"You are eligible to vote\")\n",
        "else:\n",
        "    print(\"You are not eligible to vote\")"
      ],
      "metadata": {
        "colab": {
          "base_uri": "https://localhost:8080/"
        },
        "id": "Ji86NvlJS7-E",
        "outputId": "1cd8408b-479b-4ea6-a397-2540e7a6c3e7"
      },
      "execution_count": null,
      "outputs": [
        {
          "output_type": "stream",
          "name": "stdout",
          "text": [
            "Enter your age: 22\n",
            "You are eligible to vote\n"
          ]
        }
      ]
    },
    {
      "cell_type": "markdown",
      "source": [
        "## **Loop**"
      ],
      "metadata": {
        "id": "WY2xPejaTg7t"
      }
    },
    {
      "cell_type": "code",
      "source": [
        "#in normal way\n",
        "print(\"1\")\n",
        "print(\"2\")\n",
        "print(\"3\")\n",
        "print(\"4\")\n",
        "print(\"5\")\n",
        "print(\"\")\n",
        "print(\"For loop\")\n",
        "print(\"\")\n",
        "#looping way\n",
        "for i in range(1,6):  #range(start,end (should be 1 more than targated number))\n",
        "    print(i)\n",
        "    print(\"\")\n",
        "    print(\"skiping method\")\n",
        "    print(\"\")\n",
        "#skiping method\n",
        "for i in range (1,10,2):  #range(start, end , skip (work like increnment) )\n",
        "    print(i)"
      ],
      "metadata": {
        "colab": {
          "base_uri": "https://localhost:8080/"
        },
        "collapsed": true,
        "id": "Hqt2bXLBTjhi",
        "outputId": "4c90d967-2f27-436b-e795-c7e9181d20df"
      },
      "execution_count": null,
      "outputs": [
        {
          "output_type": "stream",
          "name": "stdout",
          "text": [
            "1\n",
            "2\n",
            "3\n",
            "4\n",
            "5\n",
            "\n",
            "For loop\n",
            "\n",
            "1\n",
            "\n",
            "skiping method\n",
            "\n",
            "2\n",
            "\n",
            "skiping method\n",
            "\n",
            "3\n",
            "\n",
            "skiping method\n",
            "\n",
            "4\n",
            "\n",
            "skiping method\n",
            "\n",
            "5\n",
            "\n",
            "skiping method\n",
            "\n",
            "1\n",
            "3\n",
            "5\n",
            "7\n",
            "9\n"
          ]
        }
      ]
    },
    {
      "cell_type": "code",
      "source": [
        "#1+2+3+4+5+..+100= ?\n",
        "\n",
        "sum = 0\n",
        "for i in range ( 0, 101):\n",
        "  sum = sum + i\n",
        "  print(sum)"
      ],
      "metadata": {
        "colab": {
          "base_uri": "https://localhost:8080/"
        },
        "collapsed": true,
        "id": "d46TiNrXV0uy",
        "outputId": "6132c915-eec7-4d55-d7e4-5c1c832ffef3"
      },
      "execution_count": null,
      "outputs": [
        {
          "output_type": "stream",
          "name": "stdout",
          "text": [
            "0\n",
            "1\n",
            "3\n",
            "6\n",
            "10\n",
            "15\n",
            "21\n",
            "28\n",
            "36\n",
            "45\n",
            "55\n",
            "66\n",
            "78\n",
            "91\n",
            "105\n",
            "120\n",
            "136\n",
            "153\n",
            "171\n",
            "190\n",
            "210\n",
            "231\n",
            "253\n",
            "276\n",
            "300\n",
            "325\n",
            "351\n",
            "378\n",
            "406\n",
            "435\n",
            "465\n",
            "496\n",
            "528\n",
            "561\n",
            "595\n",
            "630\n",
            "666\n",
            "703\n",
            "741\n",
            "780\n",
            "820\n",
            "861\n",
            "903\n",
            "946\n",
            "990\n",
            "1035\n",
            "1081\n",
            "1128\n",
            "1176\n",
            "1225\n",
            "1275\n",
            "1326\n",
            "1378\n",
            "1431\n",
            "1485\n",
            "1540\n",
            "1596\n",
            "1653\n",
            "1711\n",
            "1770\n",
            "1830\n",
            "1891\n",
            "1953\n",
            "2016\n",
            "2080\n",
            "2145\n",
            "2211\n",
            "2278\n",
            "2346\n",
            "2415\n",
            "2485\n",
            "2556\n",
            "2628\n",
            "2701\n",
            "2775\n",
            "2850\n",
            "2926\n",
            "3003\n",
            "3081\n",
            "3160\n",
            "3240\n",
            "3321\n",
            "3403\n",
            "3486\n",
            "3570\n",
            "3655\n",
            "3741\n",
            "3828\n",
            "3916\n",
            "4005\n",
            "4095\n",
            "4186\n",
            "4278\n",
            "4371\n",
            "4465\n",
            "4560\n",
            "4656\n",
            "4753\n",
            "4851\n",
            "4950\n",
            "5050\n"
          ]
        }
      ]
    },
    {
      "cell_type": "code",
      "source": [
        "#for odd numbers\n",
        "sum = 0\n",
        "for i in range ( 0, 101,):\n",
        "  if i%2 == 0:\n",
        "    continue\n",
        "  else:\n",
        "    sum = sum + i\n",
        "  print(sum)"
      ],
      "metadata": {
        "colab": {
          "base_uri": "https://localhost:8080/"
        },
        "collapsed": true,
        "id": "rV5FlNirW2Fz",
        "outputId": "766e2faf-2946-4865-b09e-c587fed2da26"
      },
      "execution_count": null,
      "outputs": [
        {
          "output_type": "stream",
          "name": "stdout",
          "text": [
            "1\n",
            "4\n",
            "9\n",
            "16\n",
            "25\n",
            "36\n",
            "49\n",
            "64\n",
            "81\n",
            "100\n",
            "121\n",
            "144\n",
            "169\n",
            "196\n",
            "225\n",
            "256\n",
            "289\n",
            "324\n",
            "361\n",
            "400\n",
            "441\n",
            "484\n",
            "529\n",
            "576\n",
            "625\n",
            "676\n",
            "729\n",
            "784\n",
            "841\n",
            "900\n",
            "961\n",
            "1024\n",
            "1089\n",
            "1156\n",
            "1225\n",
            "1296\n",
            "1369\n",
            "1444\n",
            "1521\n",
            "1600\n",
            "1681\n",
            "1764\n",
            "1849\n",
            "1936\n",
            "2025\n",
            "2116\n",
            "2209\n",
            "2304\n",
            "2401\n",
            "2500\n"
          ]
        }
      ]
    },
    {
      "cell_type": "code",
      "source": [
        "#for even numbers\n",
        "sum = 0\n",
        "for i in range ( 0, 101,):\n",
        "  if i%2 != 0:\n",
        "    continue\n",
        "  else:\n",
        "    sum = sum + i\n",
        "  print(sum)"
      ],
      "metadata": {
        "colab": {
          "base_uri": "https://localhost:8080/"
        },
        "collapsed": true,
        "id": "drDI3tcUYExK",
        "outputId": "420a24ed-4670-4b28-c6bf-ab761c3de54d"
      },
      "execution_count": null,
      "outputs": [
        {
          "output_type": "stream",
          "name": "stdout",
          "text": [
            "0\n",
            "2\n",
            "6\n",
            "12\n",
            "20\n",
            "30\n",
            "42\n",
            "56\n",
            "72\n",
            "90\n",
            "110\n",
            "132\n",
            "156\n",
            "182\n",
            "210\n",
            "240\n",
            "272\n",
            "306\n",
            "342\n",
            "380\n",
            "420\n",
            "462\n",
            "506\n",
            "552\n",
            "600\n",
            "650\n",
            "702\n",
            "756\n",
            "812\n",
            "870\n",
            "930\n",
            "992\n",
            "1056\n",
            "1122\n",
            "1190\n",
            "1260\n",
            "1332\n",
            "1406\n",
            "1482\n",
            "1560\n",
            "1640\n",
            "1722\n",
            "1806\n",
            "1892\n",
            "1980\n",
            "2070\n",
            "2162\n",
            "2256\n",
            "2352\n",
            "2450\n",
            "2550\n"
          ]
        }
      ]
    },
    {
      "cell_type": "code",
      "source": [
        "#another way to add even numbers\n",
        "sum = 0\n",
        "for i in range (0,101,2):\n",
        "  sum = sum +i\n",
        "  print(sum)"
      ],
      "metadata": {
        "colab": {
          "base_uri": "https://localhost:8080/"
        },
        "collapsed": true,
        "id": "qpjhzYmzY2Ty",
        "outputId": "cfe6d926-725a-4388-ae55-c8aaf2c98eb6"
      },
      "execution_count": null,
      "outputs": [
        {
          "output_type": "stream",
          "name": "stdout",
          "text": [
            "0\n",
            "2\n",
            "6\n",
            "12\n",
            "20\n",
            "30\n",
            "42\n",
            "56\n",
            "72\n",
            "90\n",
            "110\n",
            "132\n",
            "156\n",
            "182\n",
            "210\n",
            "240\n",
            "272\n",
            "306\n",
            "342\n",
            "380\n",
            "420\n",
            "462\n",
            "506\n",
            "552\n",
            "600\n",
            "650\n",
            "702\n",
            "756\n",
            "812\n",
            "870\n",
            "930\n",
            "992\n",
            "1056\n",
            "1122\n",
            "1190\n",
            "1260\n",
            "1332\n",
            "1406\n",
            "1482\n",
            "1560\n",
            "1640\n",
            "1722\n",
            "1806\n",
            "1892\n",
            "1980\n",
            "2070\n",
            "2162\n",
            "2256\n",
            "2352\n",
            "2450\n",
            "2550\n"
          ]
        }
      ]
    },
    {
      "cell_type": "code",
      "source": [
        "#another way to add odd numbers\n",
        "sum = 0\n",
        "for i in range (1,101,2):\n",
        "  sum = sum +i\n",
        "  print(sum)"
      ],
      "metadata": {
        "colab": {
          "base_uri": "https://localhost:8080/"
        },
        "collapsed": true,
        "id": "b3bQJPDIZT3E",
        "outputId": "d1489243-cf1f-45c8-fd16-a199a981fb2e"
      },
      "execution_count": null,
      "outputs": [
        {
          "output_type": "stream",
          "name": "stdout",
          "text": [
            "1\n",
            "4\n",
            "9\n",
            "16\n",
            "25\n",
            "36\n",
            "49\n",
            "64\n",
            "81\n",
            "100\n",
            "121\n",
            "144\n",
            "169\n",
            "196\n",
            "225\n",
            "256\n",
            "289\n",
            "324\n",
            "361\n",
            "400\n",
            "441\n",
            "484\n",
            "529\n",
            "576\n",
            "625\n",
            "676\n",
            "729\n",
            "784\n",
            "841\n",
            "900\n",
            "961\n",
            "1024\n",
            "1089\n",
            "1156\n",
            "1225\n",
            "1296\n",
            "1369\n",
            "1444\n",
            "1521\n",
            "1600\n",
            "1681\n",
            "1764\n",
            "1849\n",
            "1936\n",
            "2025\n",
            "2116\n",
            "2209\n",
            "2304\n",
            "2401\n",
            "2500\n"
          ]
        }
      ]
    },
    {
      "cell_type": "markdown",
      "source": [
        "while loop"
      ],
      "metadata": {
        "id": "GfuhYG_UZtzT"
      }
    },
    {
      "cell_type": "code",
      "source": [
        "#while loop\n",
        "while condition:\n",
        "  statement"
      ],
      "metadata": {
        "id": "iRgb8_6HZvaV"
      },
      "execution_count": null,
      "outputs": []
    },
    {
      "cell_type": "code",
      "source": [
        "#example\n",
        "i = 1\n",
        "sum = 0\n",
        "while i<10:\n",
        "  sum = sum +i\n",
        "  i = i + 1\n",
        "  print (sum)"
      ],
      "metadata": {
        "colab": {
          "base_uri": "https://localhost:8080/"
        },
        "collapsed": true,
        "id": "dBgQ6W5faAKc",
        "outputId": "85c140c6-0dff-4d4a-a36f-49c03de6cc16"
      },
      "execution_count": null,
      "outputs": [
        {
          "output_type": "stream",
          "name": "stdout",
          "text": [
            "1\n",
            "3\n",
            "6\n",
            "10\n",
            "15\n",
            "21\n",
            "28\n",
            "36\n",
            "45\n"
          ]
        }
      ]
    },
    {
      "cell_type": "code",
      "source": [
        "#for odd\n",
        "i = 1\n",
        "sum = 0\n",
        "while i<10:\n",
        "  sum = sum +i\n",
        "  i = i + 2\n",
        "  print (sum)"
      ],
      "metadata": {
        "colab": {
          "base_uri": "https://localhost:8080/"
        },
        "collapsed": true,
        "id": "cSU79ItOadTq",
        "outputId": "6485eea2-5966-4201-a57b-ca590f228d8c"
      },
      "execution_count": null,
      "outputs": [
        {
          "output_type": "stream",
          "name": "stdout",
          "text": [
            "1\n",
            "4\n",
            "9\n",
            "16\n",
            "25\n"
          ]
        }
      ]
    },
    {
      "cell_type": "code",
      "source": [
        "#for even\n",
        "i = 0\n",
        "sum = 0\n",
        "while i<10:\n",
        "  #sum = sum +i #can be written as ( sum +=i ) too\n",
        "  sum +=i\n",
        "  i = i + 2\n",
        "  print (sum)"
      ],
      "metadata": {
        "colab": {
          "base_uri": "https://localhost:8080/"
        },
        "collapsed": true,
        "id": "6YlFK0yias5L",
        "outputId": "c82d6638-3bf5-4bd6-dd42-e3b1f779a012"
      },
      "execution_count": null,
      "outputs": [
        {
          "output_type": "stream",
          "name": "stdout",
          "text": [
            "0\n",
            "2\n",
            "6\n",
            "12\n",
            "20\n"
          ]
        }
      ]
    },
    {
      "cell_type": "markdown",
      "source": [
        "loop example for lists"
      ],
      "metadata": {
        "id": "X1kedpxkbiX8"
      }
    },
    {
      "cell_type": "code",
      "source": [
        "fruits= [ \"mango\", \"banana\", \"apple\", \"orange\"]\n",
        "print(fruits[1])    #print(fruits[index of desired subject])\n",
        "print(fruits)"
      ],
      "metadata": {
        "colab": {
          "base_uri": "https://localhost:8080/"
        },
        "id": "p8zM_Akybr1T",
        "outputId": "7fbc34df-fcaf-403e-902c-4f84dd403451"
      },
      "execution_count": null,
      "outputs": [
        {
          "output_type": "stream",
          "name": "stdout",
          "text": [
            "banana\n",
            "orange\n",
            "['mango', 'banana', 'apple', 'orange']\n"
          ]
        }
      ]
    },
    {
      "cell_type": "code",
      "source": [
        "fruits= [ \"mango\", \"banana\", \"apple\", \"orange\"]\n",
        "for fruit in fruits:\n",
        "  print(fruit)"
      ],
      "metadata": {
        "colab": {
          "base_uri": "https://localhost:8080/"
        },
        "id": "Hx6iYCXddxst",
        "outputId": "580147d0-b19d-4374-a1a7-144eeca8daa9"
      },
      "execution_count": null,
      "outputs": [
        {
          "output_type": "stream",
          "name": "stdout",
          "text": [
            "mango\n",
            "banana\n",
            "apple\n",
            "orange\n"
          ]
        }
      ]
    },
    {
      "cell_type": "markdown",
      "source": [
        "## **Function/Methods**"
      ],
      "metadata": {
        "id": "Au8gkIvNeFqM"
      }
    },
    {
      "cell_type": "code",
      "source": [
        "from os import F_TEST\n",
        "# syntax\n",
        "# def functionname ():\n",
        "\n",
        "def AddtwoNum(a,b):\n",
        "  return a + b\n",
        "F_TEST = AddtwoNum(3,6)\n",
        "print(F_TEST)"
      ],
      "metadata": {
        "colab": {
          "base_uri": "https://localhost:8080/"
        },
        "id": "xoQxAwfTeJfN",
        "outputId": "90e526b2-47bf-490c-af4e-267b5508aaad"
      },
      "execution_count": null,
      "outputs": [
        {
          "output_type": "stream",
          "name": "stdout",
          "text": [
            "9\n"
          ]
        }
      ]
    },
    {
      "cell_type": "code",
      "source": [
        "def subtwonum(a,b):\n",
        "   return a - b\n",
        "ftest = subtwonum( 45,23)\n",
        "print(ftest)"
      ],
      "metadata": {
        "colab": {
          "base_uri": "https://localhost:8080/"
        },
        "id": "7KxqWQETh_R7",
        "outputId": "d61294e4-db17-4e71-dfb3-e96850ae9f9a"
      },
      "execution_count": null,
      "outputs": [
        {
          "output_type": "stream",
          "name": "stdout",
          "text": [
            "22\n"
          ]
        }
      ]
    },
    {
      "cell_type": "markdown",
      "source": [
        "## **learning resource**"
      ],
      "metadata": {
        "id": "OJfXrLXyimBL"
      }
    },
    {
      "cell_type": "markdown",
      "source": [
        "w3school\n",
        "udemy\n"
      ],
      "metadata": {
        "id": "JrTyaomOip-z"
      }
    }
  ]
}
